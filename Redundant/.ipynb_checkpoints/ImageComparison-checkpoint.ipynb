{
 "cells": [
  {
   "cell_type": "markdown",
   "id": "195dbf51-a37c-43c1-944a-093c25e0ec73",
   "metadata": {},
   "source": [
    "# Run 6 and 6b comparisons"
   ]
  },
  {
   "cell_type": "markdown",
   "id": "c0847895-8dcf-4682-b793-98c65a39ec35",
   "metadata": {
    "execution": {
     "iopub.execute_input": "2023-12-21T18:00:15.201883Z",
     "iopub.status.busy": "2023-12-21T18:00:15.201678Z",
     "iopub.status.idle": "2023-12-21T18:00:15.205426Z",
     "shell.execute_reply": "2023-12-21T18:00:15.204838Z",
     "shell.execute_reply.started": "2023-12-21T18:00:15.201869Z"
    }
   },
   "source": [
    "Check what version of eups you are using"
   ]
  },
  {
   "cell_type": "code",
   "execution_count": 10,
   "id": "e30a76a0-2e49-4e98-90b5-4d0288c160a2",
   "metadata": {
    "execution": {
     "iopub.execute_input": "2024-01-08T14:11:40.397604Z",
     "iopub.status.busy": "2024-01-08T14:11:40.397307Z",
     "iopub.status.idle": "2024-01-08T14:11:40.762627Z",
     "shell.execute_reply": "2024-01-08T14:11:40.762051Z",
     "shell.execute_reply.started": "2024-01-08T14:11:40.397590Z"
    }
   },
   "outputs": [
    {
     "name": "stdout",
     "output_type": "stream",
     "text": [
      "   g4213664e8e+0dcb05a918 \tcurrent w_2023_47 setup\n"
     ]
    }
   ],
   "source": [
    "! eups list -s lsst_distrib"
   ]
  },
  {
   "cell_type": "markdown",
   "id": "879cb991-e1ce-4ad2-9338-e1abe7ab2da9",
   "metadata": {},
   "source": [
    "Importing necessary libraries"
   ]
  },
  {
   "cell_type": "code",
   "execution_count": 11,
   "id": "e1b5a1c3-c2b0-43dd-aea5-1ca6881ee437",
   "metadata": {
    "execution": {
     "iopub.execute_input": "2024-01-08T14:11:40.771782Z",
     "iopub.status.busy": "2024-01-08T14:11:40.771513Z",
     "iopub.status.idle": "2024-01-08T14:11:40.774321Z",
     "shell.execute_reply": "2024-01-08T14:11:40.773972Z",
     "shell.execute_reply.started": "2024-01-08T14:11:40.771765Z"
    }
   },
   "outputs": [],
   "source": [
    "import pylab as plt\n",
    "from lsst.daf.butler import Butler\n",
    "import lsst.afw.display as afwDisplay\n",
    "from lsst.ip.isr.isrTask import IsrTask\n",
    "from lsst.cp.pipe.cpCombine import CalibCombineTask\n",
    "import pylab\n",
    "import numpy\n",
    "from matplotlib.patches import Rectangle"
   ]
  },
  {
   "cell_type": "markdown",
   "id": "323a95f0-1bdd-40d3-97fa-8b12b69d8359",
   "metadata": {},
   "source": [
    "Defining a helper function to plot images"
   ]
  },
  {
   "cell_type": "code",
   "execution_count": 12,
   "id": "469c8b60-8750-4701-b249-15728c250cf9",
   "metadata": {
    "execution": {
     "iopub.execute_input": "2024-01-08T14:11:41.031110Z",
     "iopub.status.busy": "2024-01-08T14:11:41.030773Z",
     "iopub.status.idle": "2024-01-08T14:11:41.033624Z",
     "shell.execute_reply": "2024-01-08T14:11:41.033263Z",
     "shell.execute_reply.started": "2024-01-08T14:11:41.031097Z"
    }
   },
   "outputs": [],
   "source": [
    "afwDisplay.setDefaultBackend('matplotlib') \n",
    "    \n",
    "def display(exposure,title=None,frame=1):\n",
    "    afw_display = afwDisplay.Display(frame)\n",
    "#    afw_display.scale('asinh', 'zscale')\n",
    "    afw_display.scale('asinh', 0, 1000)\n",
    "    afw_display.mtv(exposure.getImage())\n",
    "    plt.title(title)\n",
    "#    plt.gca().axis('off')"
   ]
  },
  {
   "cell_type": "markdown",
   "id": "e1355198-0bcb-47b8-be15-8f7cf61bcf36",
   "metadata": {},
   "source": [
    "Defining paths and initializing the butler"
   ]
  },
  {
   "cell_type": "code",
   "execution_count": 13,
   "id": "3d10f17e-3c95-404e-9ed3-dcb78ca4e600",
   "metadata": {
    "execution": {
     "iopub.execute_input": "2024-01-08T14:11:41.583508Z",
     "iopub.status.busy": "2024-01-08T14:11:41.583021Z",
     "iopub.status.idle": "2024-01-08T14:11:41.943664Z",
     "shell.execute_reply": "2024-01-08T14:11:41.943188Z",
     "shell.execute_reply.started": "2024-01-08T14:11:41.583490Z"
    },
    "scrolled": true
   },
   "outputs": [],
   "source": [
    "repo_path = \"/sdf/data/rubin/repo/ir2\"\n",
    "# The above path is where the data taken in the ir2 cleanroom is stored\n",
    "\n",
    "butler = Butler(repo_path) # Initializing a butler at the repo path\n",
    "# collections = 'LSSTCam/raw/all,LSSTCam/calib,u/snyder18/spot_13237/gridfit_run1'.split(\",\") \n",
    "collections = 'LSSTCam/raw/all' # This is what needs to be tweaked, I believe\n",
    "\n",
    "# Defining different subdirectories to query the butler with\n",
    "butler = Butler(repo_path,collections=collections) # now, a Butler with the collections defined from above\n",
    "registry = butler.registry # converting the butler to a RegistryShim to query the datatypes"
   ]
  },
  {
   "cell_type": "code",
   "execution_count": 14,
   "id": "2144f997-cd2e-4f7a-8d36-fb703250ac50",
   "metadata": {
    "execution": {
     "iopub.execute_input": "2024-01-08T14:11:43.092031Z",
     "iopub.status.busy": "2024-01-08T14:11:43.091732Z",
     "iopub.status.idle": "2024-01-08T14:11:43.446125Z",
     "shell.execute_reply": "2024-01-08T14:11:43.445685Z",
     "shell.execute_reply.started": "2024-01-08T14:11:43.092016Z"
    }
   },
   "outputs": [
    {
     "name": "stdout",
     "output_type": "stream",
     "text": [
      "You have 0 in this repository with the condition supplied {'datasetType': 'postISRCCD', 'collections': ['LSSTCam/raw/all', 'LSSTCam/calib', 'u/snyder18/spot_13237/gridfit_run1'], 'where': \"\\ninstrument='LSSTCam' and\\nexposure.science_program in ( '13550' )\\n\"}\n"
     ]
    }
   ],
   "source": [
    "kwargs={\n",
    "\"datasetType\": \"postISRCCD\", \n",
    "\"collections\": collections, \n",
    "\"where\":\n",
    "\"\"\"\n",
    "instrument='LSSTCam' and\n",
    "exposure.science_program in ( '13550' )\n",
    "\"\"\"\n",
    "}\n",
    "'''\n",
    "Above,\n",
    "instrument: the instrument where the data was taken (usually 'LSSTCam')\n",
    "exposure.science_program: date? exposure number?\n",
    "detector: the detector number of the lsst camera\n",
    "'''\n",
    "\n",
    "datasetRefs = list(registry.queryDatasets(**kwargs)) # instantiating \n",
    "print( f\"You have {len(datasetRefs)} in this repository with the condition supplied {kwargs}\")"
   ]
  },
  {
   "cell_type": "code",
   "execution_count": 20,
   "id": "8cd37d57-3a52-41f4-9472-2b415282d8d7",
   "metadata": {
    "execution": {
     "iopub.execute_input": "2023-12-25T01:24:58.280680Z",
     "iopub.status.busy": "2023-12-25T01:24:58.280187Z",
     "iopub.status.idle": "2023-12-25T01:24:58.282748Z",
     "shell.execute_reply": "2023-12-25T01:24:58.282392Z",
     "shell.execute_reply.started": "2023-12-25T01:24:58.280665Z"
    }
   },
   "outputs": [],
   "source": [
    "# This command will list all of the exposures in a given dataset, as queried from above\n",
    "\n",
    "for ref in datasetRefs:\n",
    "    print(ref.dataId.full)"
   ]
  },
  {
   "cell_type": "code",
   "execution_count": 29,
   "id": "5386fe90-3171-41ab-b581-57bfc055910f",
   "metadata": {
    "execution": {
     "iopub.execute_input": "2023-12-25T01:39:59.895089Z",
     "iopub.status.busy": "2023-12-25T01:39:59.894793Z",
     "iopub.status.idle": "2023-12-25T01:39:59.897548Z",
     "shell.execute_reply": "2023-12-25T01:39:59.897182Z",
     "shell.execute_reply.started": "2023-12-25T01:39:59.895075Z"
    }
   },
   "outputs": [],
   "source": [
    "# Display the image\n",
    "\n",
    "dataId = {\n",
    "\"datasetType\": \"postISRCCD\", \n",
    "\"collections\": collections, \n",
    "\"where\": \n",
    "\"\"\"\n",
    "day_obs: 20231116 and\n",
    "seq_num: 117\n",
    "\"\"\"\n",
    "}"
   ]
  },
  {
   "cell_type": "code",
   "execution_count": null,
   "id": "8b3ba8a7-76a5-4828-9a79-8cb75e725ba0",
   "metadata": {},
   "outputs": [],
   "source": []
  }
 ],
 "metadata": {
  "kernelspec": {
   "display_name": "LSST",
   "language": "python",
   "name": "lsst"
  },
  "language_info": {
   "codemirror_mode": {
    "name": "ipython",
    "version": 3
   },
   "file_extension": ".py",
   "mimetype": "text/x-python",
   "name": "python",
   "nbconvert_exporter": "python",
   "pygments_lexer": "ipython3",
   "version": "3.11.4"
  }
 },
 "nbformat": 4,
 "nbformat_minor": 5
}

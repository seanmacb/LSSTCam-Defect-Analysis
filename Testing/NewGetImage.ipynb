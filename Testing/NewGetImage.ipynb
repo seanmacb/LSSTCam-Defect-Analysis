{
 "cells": [
  {
   "cell_type": "markdown",
   "id": "9a289736-1e4c-43a5-a173-ad1a13276b96",
   "metadata": {},
   "source": [
    "# Time to make a new getImage function\n",
    "- Must have subroutine to more clearly select datasetRef"
   ]
  },
  {
   "cell_type": "code",
   "execution_count": 1,
   "id": "79290906-01d0-4dc7-8349-92777fb23d1f",
   "metadata": {
    "execution": {
     "iopub.execute_input": "2024-07-01T10:57:50.909275Z",
     "iopub.status.busy": "2024-07-01T10:57:50.909155Z",
     "iopub.status.idle": "2024-07-01T10:57:50.910985Z",
     "shell.execute_reply": "2024-07-01T10:57:50.910719Z",
     "shell.execute_reply.started": "2024-07-01T10:57:50.909264Z"
    }
   },
   "outputs": [],
   "source": [
    "# where = \"exposure.science_program=run_number\"\n",
    "# refs = list(butler.registry.queryDatasets(\"raw\", where=where,  bind={\"run_number\": run_number}, detector=detector))"
   ]
  },
  {
   "cell_type": "code",
   "execution_count": 2,
   "id": "19079c79-d9d1-4249-8188-77be3f572fc9",
   "metadata": {
    "execution": {
     "iopub.execute_input": "2024-07-01T10:57:50.911488Z",
     "iopub.status.busy": "2024-07-01T10:57:50.911374Z",
     "iopub.status.idle": "2024-07-01T10:57:54.712430Z",
     "shell.execute_reply": "2024-07-01T10:57:54.711934Z",
     "shell.execute_reply.started": "2024-07-01T10:57:50.911478Z"
    }
   },
   "outputs": [],
   "source": [
    "import sys\n",
    "sys.path.append('/home/s/seanmacb/Camera/pkgs')\n",
    "sys.path.append('/home/s/seanmacb/Camera')\n",
    "sys.path.append('/home/s/seanmacb/Camera/Run6Comparisons/')\n",
    "import run_six_utils as rsu\n",
    "import lsst.afw.display as afwDisplay\n",
    "import lsst.daf.butler as daf_butler\n",
    "afwDisplay.setDefaultBackend('matplotlib') \n",
    "import matplotlib.pyplot as plt\n",
    "import numpy as np\n",
    "import myutils_ar.myutils as myu\n",
    "import eo_pipe"
   ]
  },
  {
   "cell_type": "code",
   "execution_count": 3,
   "id": "00d557b9-2a53-41f4-b27d-24257b9b26b4",
   "metadata": {
    "execution": {
     "iopub.execute_input": "2024-07-01T10:57:54.713615Z",
     "iopub.status.busy": "2024-07-01T10:57:54.713083Z",
     "iopub.status.idle": "2024-07-01T10:57:54.720518Z",
     "shell.execute_reply": "2024-07-01T10:57:54.720138Z",
     "shell.execute_reply.started": "2024-07-01T10:57:54.713600Z"
    }
   },
   "outputs": [],
   "source": [
    "def getRefList(registry,kwargs):\n",
    "    '''\n",
    "    Function to get a list of datasetRefs, given the kwargs and a registryShim\n",
    "    '''\n",
    "    return list(registry.queryDatasets(**kwargs))\n",
    "    \n",
    "def makeButler(repo,collections):\n",
    "    '''\n",
    "    A function to return a butler object, given the repo and collections specified\n",
    "    '''\n",
    "    return daf_butler.Butler(repo,collections=collections)\n",
    "\n",
    "def makeRegistry(butler):\n",
    "    '''\n",
    "    Small function to convert a Butler obj to a registry shim\n",
    "    '''\n",
    "    return butler.registry\n",
    "\n",
    "def makeKwargs(run_list,img_type,detector_num,instrument='LSSTCam'):\n",
    "    '''\n",
    "    A function to make the kwargs in a butler.registry.QueryDatasets command\n",
    "    '''\n",
    "    return {\"datasetType\":\"{}\".format(img_type),\"where\":\"exposure.science_program in ({}) and instrument='{}' and detector={}\".format(makeRunNums(run_list),instrument,detector_num)}\n",
    "\n",
    "def makeRunNums(run_list):\n",
    "    '''\n",
    "    A function to format the run list from [12345,67890] format to the format needed for the butler query\n",
    "    '''\n",
    "    return str(list(map(str, run_list)))[1:-1]\n",
    "\n",
    "def fetchAllRefs(repo,collections,run_list,img_type,detector_num,instrument='LSSTCam'):\n",
    "    '''\n",
    "    A function to fetch all refs meeting the criteria of the above\n",
    "    '''\n",
    "    butler = makeButler(repo,collections)\n",
    "    registry = makeRegistry(butler)\n",
    "    kwargs = makeKwargs(run_list,img_type,detector_num,instrument=instrument)\n",
    "    return getRefList(registry,kwargs)\n",
    "\n",
    "def refSelector(refList,criteria,butler,false_criteria={},onlyUnique=True):\n",
    "    '''\n",
    "    A function to filter out refs within a refList, based on criteria (dict)\n",
    "    '''\n",
    "    outRefs = []\n",
    "    for ref in refList:\n",
    "        passCriteria = True\n",
    "        exp = butler.get(ref)\n",
    "        mData = exp.getInfo().getMetadata().toDict()\n",
    "        for key,val in zip(criteria.keys(),criteria.values()):\n",
    "            if mData[key]!=val:\n",
    "                passCriteria=False\n",
    "                break\n",
    "        for key,val in zip(false_criteria.keys(),false_criteria.values()):\n",
    "            if mData[key]==val:\n",
    "                passCriteria=False\n",
    "                break\n",
    "        if passCriteria:\n",
    "            outRefs.append(ref)\n",
    "    if onlyUnique:\n",
    "        return np.unique(outRefs)\n",
    "    else:\n",
    "        return outRefs\n",
    "\n",
    "def getMetadataDict(ref,butler):\n",
    "    '''\n",
    "    Function to get metadata of a ref as a dict\n",
    "    '''\n",
    "    return butler.get(ref).getInfo().getMetadata().toDict()\n",
    "\n",
    "def retrieveImage(repo,collection,run_list,img_type,detector_num,criteria):\n",
    "    '''\n",
    "    A function to return an ExposureF based on criteria, repo, collection, run_list, etc....\n",
    "    '''\n",
    "    refs = fetchAllRefs(repo,collection,run_list,img_type,detector_num)\n",
    "    filtered_refs = refSelector(refs,criteria,makeButler(repo,collection))\n",
    "    if len(filtered_refs)!=1:\n",
    "        return makeButler(repo,collection).get(filtered_refs[0]) # Probably would be good to have a better way to select, but this works for now I guess.....\n",
    "    else:\n",
    "        return makeButler(repo,collection).get(filtered_refs)"
   ]
  },
  {
   "cell_type": "code",
   "execution_count": 4,
   "id": "cf62d866-ee04-43cf-870d-2989157e4998",
   "metadata": {
    "execution": {
     "iopub.execute_input": "2024-07-01T10:57:54.721852Z",
     "iopub.status.busy": "2024-07-01T10:57:54.721720Z",
     "iopub.status.idle": "2024-07-01T10:57:54.724919Z",
     "shell.execute_reply": "2024-07-01T10:57:54.724556Z",
     "shell.execute_reply.started": "2024-07-01T10:57:54.721841Z"
    }
   },
   "outputs": [],
   "source": [
    "run_list = [13330,14524,13550]\n",
    "img_type=\"raw\"\n",
    "detector_num = 100\n",
    "repo='/repo/ir2'\n",
    "collection= 'LSSTCam/raw/all,LSSTCam/calib'.split(\",\")\n",
    "criteria = {'IMGTYPE': 'FLAT',\"EXPTIME\":15}"
   ]
  },
  {
   "cell_type": "code",
   "execution_count": 214,
   "id": "3c19e13d-1c37-442b-b552-954d2522a536",
   "metadata": {
    "execution": {
     "iopub.execute_input": "2024-07-01T10:45:59.290635Z",
     "iopub.status.busy": "2024-07-01T10:45:59.290279Z",
     "iopub.status.idle": "2024-07-01T10:45:59.604072Z",
     "shell.execute_reply": "2024-07-01T10:45:59.603555Z",
     "shell.execute_reply.started": "2024-07-01T10:45:59.290621Z"
    }
   },
   "outputs": [],
   "source": [
    "refs = fetchAllRefs(repo,collection,run_list,img_type,detector_num)"
   ]
  },
  {
   "cell_type": "code",
   "execution_count": 215,
   "id": "23d9e879-f69b-4d9a-bea1-a46be7a8d5dd",
   "metadata": {
    "execution": {
     "iopub.execute_input": "2024-07-01T10:45:59.937785Z",
     "iopub.status.busy": "2024-07-01T10:45:59.937641Z",
     "iopub.status.idle": "2024-07-01T10:46:00.537286Z",
     "shell.execute_reply": "2024-07-01T10:46:00.536781Z",
     "shell.execute_reply.started": "2024-07-01T10:45:59.937775Z"
    }
   },
   "outputs": [],
   "source": [
    "exp = makeButler(repo,collection).get(refs[0])"
   ]
  },
  {
   "cell_type": "code",
   "execution_count": null,
   "id": "d20d575f-b587-4580-9bc6-74e610f5ff08",
   "metadata": {},
   "outputs": [],
   "source": []
  },
  {
   "cell_type": "code",
   "execution_count": null,
   "id": "93e6eada-aeec-4fd2-a009-93371a0b1bda",
   "metadata": {},
   "outputs": [],
   "source": []
  },
  {
   "cell_type": "code",
   "execution_count": 5,
   "id": "99b66535-0b2e-4267-a963-224dd547dfe0",
   "metadata": {
    "execution": {
     "iopub.execute_input": "2024-07-01T10:57:55.846831Z",
     "iopub.status.busy": "2024-07-01T10:57:55.846711Z",
     "iopub.status.idle": "2024-07-01T10:59:46.620059Z",
     "shell.execute_reply": "2024-07-01T10:59:46.619592Z",
     "shell.execute_reply.started": "2024-07-01T10:57:55.846821Z"
    }
   },
   "outputs": [],
   "source": [
    "image = retrieveImage(repo,collection,run_list,img_type,detector_num,criteria)"
   ]
  },
  {
   "cell_type": "code",
   "execution_count": null,
   "id": "f77f07e4-e2d5-4ef3-8048-aebabb694e49",
   "metadata": {},
   "outputs": [],
   "source": []
  }
 ],
 "metadata": {
  "kernelspec": {
   "display_name": "LSST",
   "language": "python",
   "name": "lsst"
  },
  "language_info": {
   "codemirror_mode": {
    "name": "ipython",
    "version": 3
   },
   "file_extension": ".py",
   "mimetype": "text/x-python",
   "name": "python",
   "nbconvert_exporter": "python",
   "pygments_lexer": "ipython3",
   "version": "3.11.7"
  }
 },
 "nbformat": 4,
 "nbformat_minor": 5
}

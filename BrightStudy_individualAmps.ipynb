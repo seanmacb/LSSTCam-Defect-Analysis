{
 "cells": [
  {
   "cell_type": "code",
   "execution_count": 2,
   "id": "c5a0cd30-7177-4c00-b32c-6acf843e1319",
   "metadata": {
    "execution": {
     "iopub.execute_input": "2024-05-28T18:08:52.253216Z",
     "iopub.status.busy": "2024-05-28T18:08:52.252712Z",
     "iopub.status.idle": "2024-05-28T18:08:56.113822Z",
     "shell.execute_reply": "2024-05-28T18:08:56.113344Z",
     "shell.execute_reply.started": "2024-05-28T18:08:52.253202Z"
    }
   },
   "outputs": [],
   "source": [
    "import sys\n",
    "sys.path.append('/home/s/seanmacb/Camera/pkgs')\n",
    "import run_six_utils as rsu\n",
    "import lsst.afw.display as afwDisplay\n",
    "import lsst.daf.butler as daf_butler\n",
    "afwDisplay.setDefaultBackend('matplotlib') \n",
    "import matplotlib.pyplot as plt\n",
    "import numpy as np\n",
    "import myutils_ar.myutils as myu\n",
    "import eo_pipe"
   ]
  },
  {
   "cell_type": "code",
   "execution_count": 18,
   "id": "8192cea7-f882-41f7-9401-6efceae83d76",
   "metadata": {
    "execution": {
     "iopub.execute_input": "2024-05-23T21:02:13.152828Z",
     "iopub.status.busy": "2024-05-23T21:02:13.152417Z",
     "iopub.status.idle": "2024-05-23T21:02:13.155801Z",
     "shell.execute_reply": "2024-05-23T21:02:13.155442Z",
     "shell.execute_reply.started": "2024-05-23T21:02:13.152814Z"
    }
   },
   "outputs": [],
   "source": [
    "repo = '/repo/main'\n",
    "operator = 'lsstccs'\n",
    "\n",
    "repo_arr = ['/repo/main','/repo/main','/repo/ir2','/repo/ir2']\n",
    "\n",
    "notable_detectors = [\"R12_S20\",\"R31_S01\",\"R22_S01\",\"R13_S01\"]\n",
    "defect_list = [\"BRIGHT_COLUMNS\",\"BRIGHT_PIXELS\"]\n",
    "\n",
    "kwarg_dict = [{\"alpha\":.9,\"ls\":\"-\",\"marker\":\"+\",\"markersize\":10,\"color\":\"red\"},\n",
    "              {\"alpha\":.9,\"ls\":\"--\",\"marker\":\"x\",\"markersize\":10,\"color\":\"blue\"},\n",
    "              {\"alpha\":.9,\"ls\":\"-.\",\"marker\":\".\",\"markersize\":10,\"color\":\"green\"}]"
   ]
  },
  {
   "cell_type": "markdown",
   "id": "e501a0fa-d5f9-49ee-80ee-c4be819f8950",
   "metadata": {
    "execution": {
     "iopub.execute_input": "2024-05-15T14:03:30.077205Z",
     "iopub.status.busy": "2024-05-15T14:03:30.077031Z",
     "iopub.status.idle": "2024-05-15T14:03:30.080389Z",
     "shell.execute_reply": "2024-05-15T14:03:30.080003Z",
     "shell.execute_reply.started": "2024-05-15T14:03:30.077194Z"
    }
   },
   "source": [
    "## Using utils in `myutils.py` to study specific amps"
   ]
  },
  {
   "cell_type": "code",
   "execution_count": 14,
   "id": "acce8cba-b110-4731-954e-7536a18e0ee4",
   "metadata": {
    "execution": {
     "iopub.execute_input": "2024-05-22T17:05:53.841711Z",
     "iopub.status.busy": "2024-05-22T17:05:53.841194Z",
     "iopub.status.idle": "2024-05-22T17:05:53.844626Z",
     "shell.execute_reply": "2024-05-22T17:05:53.844150Z",
     "shell.execute_reply.started": "2024-05-22T17:05:53.841695Z"
    }
   },
   "outputs": [],
   "source": [
    "detector_amps = [(\"R11_S21\",[\"C17\"]),\n",
    "                 (\"R12_S20\",[\"C17\",\"C16\"]),\n",
    "                 (\"R13_S01\",[\"C17\"]),\n",
    "                 (\"R13_S10\",[\"C07\"]),\n",
    "                 (\"R22_S01\",[\"C11\"]),\n",
    "                 (\"R23_S10\",[\"C13\"]),\n",
    "                 (\"R31_S01\",[\"C05\"]),\n",
    "                 (\"R32_S10\",[\"C04\"])]\n",
    "\n",
    "run_week_repo = [('12845','w_2023_22','/repo/main'),\n",
    "                 ('13162','w_2023_22','/repo/main'),\n",
    "                 ('13401','w_2023_24','/repo/ir2'),\n",
    "                 ('13550','w_2023_41','/repo/ir2')]  # Run 5, 6, run 6b.\n",
    "weeklys = ['w_2023_22','w_2023_24','w_2023_41']\n",
    "img_type = 'flat'\n",
    "defect_datasets=[\"eoDarkDefects\",\"eoBrightDefects\"]\n",
    "defect_dataset_path=[\"eo_dark_defects\",\"eo_bright_defects\"]"
   ]
  },
  {
   "cell_type": "code",
   "execution_count": 15,
   "id": "0881e12d-eedc-4882-bd70-f25c06068e1a",
   "metadata": {
    "execution": {
     "iopub.execute_input": "2024-05-22T17:05:54.109262Z",
     "iopub.status.busy": "2024-05-22T17:05:54.108853Z",
     "iopub.status.idle": "2024-05-22T17:06:03.676548Z",
     "shell.execute_reply": "2024-05-22T17:06:03.676140Z",
     "shell.execute_reply.started": "2024-05-22T17:05:54.109248Z"
    },
    "scrolled": true
   },
   "outputs": [
    {
     "data": {
      "text/plain": [
       "<Figure size 640x480 with 0 Axes>"
      ]
     },
     "metadata": {},
     "output_type": "display_data"
    }
   ],
   "source": [
    "for det_amp in detector_amps:\n",
    "    detector_str,amp_strs = det_amp\n",
    "    detector_num = myu.det_nums[detector_str]\n",
    "    for amp_str in amp_strs:\n",
    "        # Make a new figure\n",
    "\n",
    "        fig = 'mtv';\n",
    "        plt.close(fig);\n",
    "        fig = plt.figure(fig);\n",
    "\n",
    "        # fig,axs = plt.subplots(1,len(run_week_repo),figsize=[5*len(run_week_repo)/3,5],sharey=True)\n",
    "        fig,axs = plt.subplots(1,len(run_week_repo),figsize=[15,10],sharey=True)\n",
    "        \n",
    "\n",
    "        fig.suptitle(detector_str+\" \"+amp_str)\n",
    "        \n",
    "        for wkr,ax in zip(run_week_repo,axs):\n",
    "            run,week,repo = wkr\n",
    "\n",
    "            # Make a butler here in order to make image masks\n",
    "\n",
    "            collections = 'LSSTCam/raw/all,LSSTCam/calib'.split(\",\") # Defining collections (that are ignored by below kernel)\n",
    "            butler = daf_butler.Butler(repo,collections=collections) # Initializing a butler with the ir2 path and the above collections\n",
    "            registry = butler.registry\n",
    "            \n",
    "            img, detector_obj, amp = rsu.getAmp(img_type,run,week,detector_str,amp_str,repo=repo)\n",
    "            box,minx,maxx,miny,maxy = rsu.getAmpCorners(amp)\n",
    "\n",
    "            # Mask image here\n",
    "\n",
    "            kwargs={\n",
    "                    \"datasetType\": \"\",\n",
    "                    \"collections\": \"\",\n",
    "                    \"where\":\n",
    "                    \"\"\"\n",
    "                    instrument='LSSTCam' and \n",
    "                    detector = {var}\n",
    "                    \"\"\".format(var=detector_num)\n",
    "                    }\n",
    "\n",
    "            for datasetType,defect_path in zip(defect_datasets,defect_dataset_path):\n",
    "                img.getMask().addMaskPlane(datasetType)\n",
    "                # here, add a new mask plane to add the mask.maskPixels to\n",
    "                kwargs['datasetType'] = datasetType\n",
    "                kwargs['collections'] = \"u/lsstccs/\"+defect_path+\"_\"+run+\"_\"+week\n",
    "                # print(\"Querying\",datasetType,\"for mask\")\n",
    "                datasetRefs = list(registry.queryDatasets(**kwargs))\n",
    "                mask = butler.get(datasetRefs[0])\n",
    "                \n",
    "                mask.maskPixels(img,maskName=datasetType)\n",
    "\n",
    "            # add data to axes here\n",
    "\n",
    "            disp = afwDisplay.Display(fig)\n",
    "            disp.scale('asinh', 'zscale', Q=8)\n",
    "            # if run==run_week_repo[-1][0]:\n",
    "            \n",
    "            rsu.formatter(disp,kw=defect_datasets)\n",
    "            plt.sca(ax)\n",
    "            disp.mtv(img)\n",
    "            disp.show_colorbar(False)\n",
    "            \n",
    "            #\n",
    "            \n",
    "            # format general things here\n",
    "            ax.set_title(run)\n",
    "            ax.set_xlabel(\"Serial Register\")\n",
    "            # minx,maxx = 2400,2500\n",
    "            # miny,maxy = 200,375\n",
    "            ax.set_xlim(minx,maxx)\n",
    "            ax.set_xticks(np.arange(minx,maxx,step=int(np.floor((maxx-minx)/2))))\n",
    "            ax.set_ylim(miny,maxy)\n",
    "            ax.set_yticks(np.arange(miny,maxy,step=int(np.floor((maxy-miny)/6))))\n",
    "\n",
    "        axs[0].set_ylabel(\"Parallel Register\")\n",
    "        \n",
    "        fig.tight_layout()\n",
    "        \n",
    "        fig.savefig(\"/home/s/seanmacb/Camera/Run6Comparisons/Figures/AmpStudy/inset_{}_{}.jpg\".format(detector_str,amp_str),dpi=200)\n",
    "        \n",
    "        fig.clear()\n",
    "        plt.close(fig)"
   ]
  },
  {
   "cell_type": "code",
   "execution_count": null,
   "id": "74a29c62-0ea5-47e9-8d28-dc173b51053c",
   "metadata": {},
   "outputs": [],
   "source": []
  },
  {
   "cell_type": "code",
   "execution_count": null,
   "id": "720e81d5-a2bc-4862-b7b0-887fcf2a713e",
   "metadata": {},
   "outputs": [],
   "source": []
  }
 ],
 "metadata": {
  "kernelspec": {
   "display_name": "LSST",
   "language": "python",
   "name": "lsst"
  },
  "language_info": {
   "codemirror_mode": {
    "name": "ipython",
    "version": 3
   },
   "file_extension": ".py",
   "mimetype": "text/x-python",
   "name": "python",
   "nbconvert_exporter": "python",
   "pygments_lexer": "ipython3",
   "version": "3.11.7"
  }
 },
 "nbformat": 4,
 "nbformat_minor": 5
}

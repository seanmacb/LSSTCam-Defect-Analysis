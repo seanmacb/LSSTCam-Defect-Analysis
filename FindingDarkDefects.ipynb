{
 "cells": [
  {
   "cell_type": "code",
   "execution_count": 1,
   "id": "578358dc-53ca-4f17-822b-a621bfcd9244",
   "metadata": {
    "execution": {
     "iopub.execute_input": "2024-08-14T13:57:11.287737Z",
     "iopub.status.busy": "2024-08-14T13:57:11.287188Z",
     "iopub.status.idle": "2024-08-14T13:57:14.851399Z",
     "shell.execute_reply": "2024-08-14T13:57:14.850978Z",
     "shell.execute_reply.started": "2024-08-14T13:57:11.287723Z"
    }
   },
   "outputs": [],
   "source": [
    "import sys\n",
    "sys.path.append('/home/s/seanmacb/Camera/pkgs')\n",
    "sys.path.append('/home/s/seanmacb/Camera/pkgs/eo_pipe/python/lsst/eo/pipe')\n",
    "import eo_pipe.python.lsst.eo.pipe as eo_pipe\n",
    "from eo_pipe.python.lsst.eo.pipe import (readNoiseTask, darkCurrentTask, defectsTask, eperTask, divisaderoTearingTask, ptcPlotsTask,linearityPlotsTask, bfAnalysisTask)\n",
    "import run_six_utils as rsu\n",
    "import myutils_ar.myutils as myu\n",
    "import lsst.afw.display as afwDisplay\n",
    "import lsst.daf.butler as daf_butler\n",
    "afwDisplay.setDefaultBackend('matplotlib')\n",
    "import matplotlib.pyplot as plt\n",
    "import numpy as np\n",
    "import lsst.afw.image as afwImage\n",
    "from lsst.afw.image import Mask\n",
    "import lsst.geom as geom\n",
    "from matplotlib.lines import Line2D"
   ]
  },
  {
   "cell_type": "code",
   "execution_count": 3,
   "id": "e018b397-b1f3-4ebc-9134-e30ed70339fb",
   "metadata": {
    "execution": {
     "iopub.execute_input": "2024-08-14T13:58:40.550524Z",
     "iopub.status.busy": "2024-08-14T13:58:40.550066Z",
     "iopub.status.idle": "2024-08-14T13:58:40.934588Z",
     "shell.execute_reply": "2024-08-14T13:58:40.934111Z",
     "shell.execute_reply.started": "2024-08-14T13:58:40.550508Z"
    }
   },
   "outputs": [],
   "source": [
    "repo = '/repo/ir2'\n",
    "butler = daf_butler.Butler(repo)\n",
    "acq_run = '13401'"
   ]
  },
  {
   "cell_type": "code",
   "execution_count": 6,
   "id": "fd6a19f0-f2e0-42fb-9776-a06236049104",
   "metadata": {
    "execution": {
     "iopub.execute_input": "2024-08-14T14:00:37.563093Z",
     "iopub.status.busy": "2024-08-14T14:00:37.562532Z",
     "iopub.status.idle": "2024-08-14T14:00:37.638463Z",
     "shell.execute_reply": "2024-08-14T14:00:37.638055Z",
     "shell.execute_reply.started": "2024-08-14T14:00:37.563076Z"
    }
   },
   "outputs": [],
   "source": [
    "collection = butler.registry.queryCollections(f\"*seanmacb*\",\n",
    "                                                   collectionTypes=daf_butler.CollectionType.CHAINED)"
   ]
  },
  {
   "cell_type": "code",
   "execution_count": 20,
   "id": "6d35493c-983f-481d-804e-db8c0b7167fb",
   "metadata": {
    "execution": {
     "iopub.execute_input": "2024-08-14T14:07:53.813905Z",
     "iopub.status.busy": "2024-08-14T14:07:53.813782Z",
     "iopub.status.idle": "2024-08-14T14:08:45.543879Z",
     "shell.execute_reply": "2024-08-14T14:08:45.543384Z",
     "shell.execute_reply.started": "2024-08-14T14:07:53.813894Z"
    }
   },
   "outputs": [
    {
     "name": "stdout",
     "output_type": "stream",
     "text": [
      "[]\n",
      "[]\n",
      "[]\n",
      "[]\n",
      "[]\n",
      "[]\n",
      "[]\n",
      "[]\n",
      "[]\n",
      "[]\n",
      "[]\n",
      "[]\n",
      "[]\n",
      "[]\n",
      "[]\n",
      "[]\n",
      "[]\n",
      "[]\n",
      "[]\n",
      "[]\n",
      "[]\n",
      "[]\n",
      "[]\n",
      "[]\n",
      "[]\n",
      "[]\n",
      "[]\n",
      "[]\n",
      "[]\n",
      "[]\n",
      "[]\n",
      "[]\n",
      "[]\n",
      "[]\n",
      "[]\n",
      "[]\n",
      "[]\n",
      "[]\n",
      "[]\n",
      "[]\n",
      "[]\n",
      "[]\n",
      "[]\n",
      "[]\n",
      "[]\n",
      "[]\n",
      "[]\n",
      "[]\n",
      "[]\n",
      "[]\n",
      "[]\n",
      "[]\n",
      "[]\n",
      "[]\n",
      "[]\n",
      "[]\n",
      "[]\n",
      "[]\n",
      "[]\n",
      "[]\n",
      "[]\n",
      "[]\n",
      "[]\n",
      "[]\n",
      "[]\n",
      "[]\n",
      "[]\n",
      "[]\n",
      "[]\n",
      "[]\n",
      "[]\n",
      "[]\n",
      "[]\n",
      "[]\n",
      "[]\n",
      "[]\n",
      "[]\n",
      "[]\n",
      "[]\n",
      "[]\n",
      "[]\n",
      "[]\n",
      "[]\n",
      "[]\n",
      "[]\n",
      "[]\n",
      "[]\n",
      "[]\n",
      "[]\n",
      "[]\n",
      "[]\n",
      "[]\n",
      "[]\n",
      "[]\n",
      "[]\n",
      "[]\n",
      "[]\n",
      "[]\n",
      "[]\n",
      "[]\n",
      "[]\n",
      "[]\n",
      "[]\n",
      "[]\n",
      "[]\n",
      "[]\n",
      "[]\n",
      "[]\n",
      "[]\n",
      "[]\n",
      "[]\n",
      "[]\n",
      "[]\n",
      "[]\n",
      "[]\n",
      "[]\n",
      "[]\n",
      "[]\n",
      "[]\n",
      "[]\n",
      "[]\n",
      "[]\n",
      "[]\n",
      "[]\n",
      "[]\n",
      "[]\n",
      "[]\n",
      "[]\n",
      "[]\n",
      "[]\n",
      "[]\n",
      "[]\n",
      "[]\n",
      "[]\n",
      "[]\n",
      "[]\n",
      "[]\n",
      "[]\n",
      "[]\n",
      "[]\n",
      "[]\n",
      "[]\n",
      "[]\n",
      "[]\n",
      "[]\n",
      "[]\n",
      "[]\n",
      "[]\n",
      "[]\n",
      "[]\n",
      "[]\n",
      "[]\n",
      "[]\n",
      "[]\n",
      "[]\n",
      "[]\n",
      "[]\n",
      "[]\n",
      "[]\n",
      "[]\n",
      "[]\n",
      "[]\n",
      "[]\n",
      "[]\n",
      "[]\n",
      "[]\n",
      "[]\n",
      "[]\n",
      "[]\n",
      "[]\n",
      "[]\n",
      "[]\n",
      "[]\n",
      "[]\n",
      "[]\n",
      "[]\n",
      "[]\n",
      "[]\n",
      "[]\n",
      "[]\n",
      "[]\n",
      "[]\n",
      "[]\n",
      "[]\n",
      "[]\n",
      "[]\n",
      "[]\n",
      "[]\n",
      "[]\n"
     ]
    }
   ],
   "source": [
    "for k in range(189):\n",
    "    print(rsu.fetchAllRefs(repo,collection,[acq_run],\"eoDarkDefects\",k))"
   ]
  },
  {
   "cell_type": "code",
   "execution_count": 12,
   "id": "ad0c5570-786c-4478-900a-70aad953e5d3",
   "metadata": {
    "execution": {
     "iopub.execute_input": "2024-08-14T14:04:20.425766Z",
     "iopub.status.busy": "2024-08-14T14:04:20.425477Z",
     "iopub.status.idle": "2024-08-14T14:04:20.428661Z",
     "shell.execute_reply": "2024-08-14T14:04:20.428301Z",
     "shell.execute_reply.started": "2024-08-14T14:04:20.425752Z"
    }
   },
   "outputs": [
    {
     "data": {
      "text/plain": [
       "['/u/seanmacb/eo_dark_defects/Initial_13401_9pix']"
      ]
     },
     "execution_count": 12,
     "metadata": {},
     "output_type": "execute_result"
    }
   ],
   "source": [
    "collection"
   ]
  },
  {
   "cell_type": "code",
   "execution_count": null,
   "id": "02128e60-1b16-42d5-b787-877b82ad726a",
   "metadata": {},
   "outputs": [],
   "source": []
  }
 ],
 "metadata": {
  "kernelspec": {
   "display_name": "LSST",
   "language": "python",
   "name": "lsst"
  },
  "language_info": {
   "codemirror_mode": {
    "name": "ipython",
    "version": 3
   },
   "file_extension": ".py",
   "mimetype": "text/x-python",
   "name": "python",
   "nbconvert_exporter": "python",
   "pygments_lexer": "ipython3",
   "version": "3.11.9"
  }
 },
 "nbformat": 4,
 "nbformat_minor": 5
}
